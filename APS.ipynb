{
 "cells": [
  {
   "cell_type": "code",
   "execution_count": 17,
   "metadata": {},
   "outputs": [],
   "source": [
    "from math import *"
   ]
  },
  {
   "cell_type": "markdown",
   "metadata": {},
   "source": [
    "### Exercicio 2"
   ]
  },
  {
   "cell_type": "code",
   "execution_count": 18,
   "metadata": {},
   "outputs": [
    {
     "name": "stdout",
     "output_type": "stream",
     "text": [
      "56.60664294295738\n"
     ]
    }
   ],
   "source": [
    "#variaveis\n",
    "ka = 200\n",
    "tbase = 100\n",
    "tinf = 25\n",
    "ta = 75\n",
    "tb = 60\n",
    "\n",
    "exp_a = (ta - tinf)/(tbase - tinf)\n",
    "exp_b = (tb - tinf)/(tbase - tinf)\n",
    "\n",
    "kb = (log(exp_a)**2) * ka/(log(exp_b)**2)\n",
    "print(kb)"
   ]
  },
  {
   "cell_type": "markdown",
   "metadata": {},
   "source": [
    "1. $$ \\ln(\\text{exp}_a) = -\\sqrt{\\frac{hP}{200A}} \\cdot x $$\n",
    "2. $$ \\ln(\\text{exp}_b) = -\\sqrt{\\frac{hP}{k_bA}} \\cdot x $$\n",
    "3. $$ \\ln(\\text{exp}_b) = -\\sqrt{\\frac{hP}{k_bA}} \\cdot \\left(\\frac{\\ln(\\text{exp}_a)}{-\\sqrt{\\frac{hP}{200A}}}\\right) $$\n",
    "4. $$ \\ln(\\text{exp}_b)^2 = -\\left(\\frac{hP}{k_bA}\\right) \\cdot \\left(\\ln(\\text{exp}_a)^2\\right)/\\left(-\\frac{hP}{200A}\\right) $$\n",
    "5. $$ \\ln(\\text{exp}_b)^2 = \\ln(\\text{exp}_a)^2 \\cdot \\frac{200}{k_b} $$\n"
   ]
  },
  {
   "cell_type": "markdown",
   "metadata": {},
   "source": [
    "### Exercício 3"
   ]
  },
  {
   "cell_type": "code",
   "execution_count": 19,
   "metadata": {},
   "outputs": [
    {
     "data": {
      "text/plain": [
       "116.51240431984866"
      ]
     },
     "metadata": {},
     "output_type": "display_data"
    },
    {
     "data": {
      "text/plain": [
       "86.82960532210126"
      ]
     },
     "metadata": {},
     "output_type": "display_data"
    }
   ],
   "source": [
    "# Dados do problema\n",
    "k = 240  \n",
    "t = 0.001 \n",
    "W = 0.1  \n",
    "L = 0.012  \n",
    "T_o = 400\n",
    "T_l = 350\n",
    "T_inf = 300 \n",
    "h = 166\n",
    "\n",
    "# Área da seção transversal da aleta\n",
    "A_tr = t * W\n",
    "\n",
    "# Perímetro da aleta (assumindo que o perímetro relevante é o contorno da seção transversal retangular sem a base)\n",
    "P = 2 * (t + W)\n",
    "\n",
    "m = sqrt(h * P / (k * A_tr))\n",
    "\n",
    "\n",
    "# Diferença de temperatura na base e na ponta da aleta em relação a T_inf\n",
    "Theta_etab = T_o - T_inf  \n",
    "Theta_etal = T_l - T_inf  \n",
    "\n",
    "# Calculando dTheta/dx na base (x=0)\n",
    "dTheta_dx_base = (Theta_etal * m * cosh(m * 0) / sinh(m * L)) - \\\n",
    "                 (Theta_etab * m * cosh(m * (L - 0)) / sinh(m * L))\n",
    "\n",
    "# Taxa de dissipação de calor na base\n",
    "q_base = -k * A_tr * dTheta_dx_base\n",
    "\n",
    "\n",
    "# Calculando dTheta/dx no topo (x=L)\n",
    "dTheta_dx_topo = (Theta_etal * m * cosh(m * L) / sinh(m * L)) - \\\n",
    "                 (Theta_etab * m * cosh(m * (L - L)) / sinh(m * L))\n",
    "\n",
    "# Taxa de dissipação de calor no topo\n",
    "q_topo = -k * A_tr * dTheta_dx_topo\n",
    "\n",
    "display(q_base, q_topo)\n"
   ]
  }
 ],
 "metadata": {
  "kernelspec": {
   "display_name": "base",
   "language": "python",
   "name": "python3"
  },
  "language_info": {
   "codemirror_mode": {
    "name": "ipython",
    "version": 3
   },
   "file_extension": ".py",
   "mimetype": "text/x-python",
   "name": "python",
   "nbconvert_exporter": "python",
   "pygments_lexer": "ipython3",
   "version": "3.9.12"
  }
 },
 "nbformat": 4,
 "nbformat_minor": 2
}
